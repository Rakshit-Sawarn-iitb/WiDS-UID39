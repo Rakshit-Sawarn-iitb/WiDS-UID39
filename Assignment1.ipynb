{
  "nbformat": 4,
  "nbformat_minor": 0,
  "metadata": {
    "colab": {
      "provenance": []
    },
    "kernelspec": {
      "name": "python3",
      "display_name": "Python 3"
    },
    "language_info": {
      "name": "python"
    }
  },
  "cells": [
    {
      "cell_type": "markdown",
      "source": [
        "# **NumPy**"
      ],
      "metadata": {
        "id": "sHVyXBhI_fOc"
      }
    },
    {
      "cell_type": "code",
      "source": [
        "import numpy as np"
      ],
      "metadata": {
        "id": "8FHQsIwGAvqF"
      },
      "execution_count": 2,
      "outputs": []
    },
    {
      "cell_type": "code",
      "execution_count": 3,
      "metadata": {
        "id": "T1Rl6J6B-1-z"
      },
      "outputs": [],
      "source": [
        "#Create a 1D NumPy array with values ranging from 1 to 100\n",
        "#Your code goes here"
      ]
    },
    {
      "cell_type": "code",
      "source": [
        "#Reshape the array created above into a 10x10 matrix"
      ],
      "metadata": {
        "id": "N-KcFKAu_y60"
      },
      "execution_count": 4,
      "outputs": []
    },
    {
      "cell_type": "code",
      "source": [
        "# Calculate the following for the matrix created above:\n",
        "    # Mean and standard deviation of the entire matrix\n",
        "    # Sum of all elements in each row and each column\n",
        "    # Element-wise square of the matrix"
      ],
      "metadata": {
        "id": "NuUTJ3pd_8GI"
      },
      "execution_count": 5,
      "outputs": []
    },
    {
      "cell_type": "code",
      "source": [
        "#Create two random 3D matrices and perform basic operations like matrix multiplication, element-wise multiplication and dot product on them"
      ],
      "metadata": {
        "id": "2hbOVXyiAYgw"
      },
      "execution_count": 6,
      "outputs": []
    },
    {
      "cell_type": "markdown",
      "source": [
        "# **Pandas**"
      ],
      "metadata": {
        "id": "0X1C44AvArN4"
      }
    },
    {
      "cell_type": "code",
      "source": [
        "import pandas as pd"
      ],
      "metadata": {
        "id": "xuxF4vuJAvEN"
      },
      "execution_count": 7,
      "outputs": []
    },
    {
      "cell_type": "code",
      "source": [
        "# Download the Iris dataset (link to the dataset is here https://www.kaggle.com/datasets/saurabh00007/iriscsv).\n",
        "# Go through the dataset once to understand the features mentioned in it"
      ],
      "metadata": {
        "id": "pGOa7SRjAzDf"
      },
      "execution_count": 8,
      "outputs": []
    },
    {
      "cell_type": "code",
      "source": [
        "# Load the dataset into a Pandas DataFrame"
      ],
      "metadata": {
        "id": "qNjxRvZpBMep"
      },
      "execution_count": 9,
      "outputs": []
    },
    {
      "cell_type": "code",
      "source": [
        "# Display the first 10 rows and last 10 rows"
      ],
      "metadata": {
        "id": "Yt-o-ZJ1BkMX"
      },
      "execution_count": 10,
      "outputs": []
    },
    {
      "cell_type": "code",
      "source": [
        "# Get a summary of the dataset"
      ],
      "metadata": {
        "id": "nbGwbQ4YBoHr"
      },
      "execution_count": 11,
      "outputs": []
    },
    {
      "cell_type": "code",
      "source": [
        "# Check for missing values and handle them if any"
      ],
      "metadata": {
        "id": "V5UxboBEBr0A"
      },
      "execution_count": 12,
      "outputs": []
    },
    {
      "cell_type": "code",
      "source": [
        "# Group the data by the species and calculate the mean of each numeric column for each species"
      ],
      "metadata": {
        "id": "iGQoPfXuBvmP"
      },
      "execution_count": 13,
      "outputs": []
    },
    {
      "cell_type": "code",
      "source": [
        "# Filter the dataset to show only rows where the sepal length is greater than 5.0"
      ],
      "metadata": {
        "id": "8QeffUGvBzEz"
      },
      "execution_count": 14,
      "outputs": []
    },
    {
      "cell_type": "code",
      "source": [
        "# Create a new column that calculates the petal area (petal length × petal width)"
      ],
      "metadata": {
        "id": "lMFAU-ouB4hi"
      },
      "execution_count": 15,
      "outputs": []
    },
    {
      "cell_type": "markdown",
      "source": [
        "# **Matplotlib**"
      ],
      "metadata": {
        "id": "NF-AbOx2B78y"
      }
    },
    {
      "cell_type": "code",
      "source": [
        "import matplotlib.pyplot as plt"
      ],
      "metadata": {
        "id": "0jZdwkNnCBEH"
      },
      "execution_count": 16,
      "outputs": []
    },
    {
      "cell_type": "code",
      "source": [
        "# Plot a line graph for the sepal length of the first 50 entries, labeling the axes and adding a title"
      ],
      "metadata": {
        "id": "nfVg1FrZCD8U"
      },
      "execution_count": 17,
      "outputs": []
    },
    {
      "cell_type": "code",
      "source": [
        "# Create a scatter plot comparing sepal length and sepal width for all species. Use different colors for each species and add a legend"
      ],
      "metadata": {
        "id": "1TKdJWDRCQw2"
      },
      "execution_count": 18,
      "outputs": []
    },
    {
      "cell_type": "code",
      "source": [
        "# Plot a histogram for the petal length column"
      ],
      "metadata": {
        "id": "IysAb0I2CWb7"
      },
      "execution_count": 19,
      "outputs": []
    },
    {
      "cell_type": "code",
      "source": [
        "# Create a boxplot for the sepal width grouped by species"
      ],
      "metadata": {
        "id": "IJ-E-jkcCafW"
      },
      "execution_count": 20,
      "outputs": []
    },
    {
      "cell_type": "code",
      "source": [
        "# Generate a bar chart showing the mean petal length for each species"
      ],
      "metadata": {
        "id": "lswsR0asCeA0"
      },
      "execution_count": 21,
      "outputs": []
    }
  ]
}