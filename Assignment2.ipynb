{
  "nbformat": 4,
  "nbformat_minor": 0,
  "metadata": {
    "colab": {
      "provenance": []
    },
    "kernelspec": {
      "name": "python3",
      "display_name": "Python 3"
    },
    "language_info": {
      "name": "python"
    }
  },
  "cells": [
    {
      "cell_type": "markdown",
      "source": [
        "# **Linear Regression**"
      ],
      "metadata": {
        "id": "owbTS-j70ER_"
      }
    },
    {
      "cell_type": "markdown",
      "source": [
        "The dataset is provided for housing price prediction. It has multiple features 12 in all.\n",
        "Some of the features needs to be pre-processed so check for those features."
      ],
      "metadata": {
        "id": "q9f-0WP61TpJ"
      }
    },
    {
      "cell_type": "markdown",
      "source": [
        "Do proper data analytics."
      ],
      "metadata": {
        "id": "PQK1y1Uv15h2"
      }
    },
    {
      "cell_type": "markdown",
      "source": [
        "Make all the intutive plots"
      ],
      "metadata": {
        "id": "d7xLGuob2IUr"
      }
    },
    {
      "cell_type": "markdown",
      "source": [
        "At the end train a linear regression model. Obviously from scratch :)"
      ],
      "metadata": {
        "id": "GN-eHhYB2ZjL"
      }
    },
    {
      "cell_type": "markdown",
      "source": [
        "Evaluate the model on all the metrics like MAE, MSE, R-2 Score etc."
      ],
      "metadata": {
        "id": "dJLOhecE2h2w"
      }
    },
    {
      "cell_type": "markdown",
      "source": [
        "And since most of you have done basic probablity and stats course feel free to perform t, F and all type of statistical tests to analyze which features are useful. Though this is optional."
      ],
      "metadata": {
        "id": "BP2JNMA22z2r"
      }
    },
    {
      "cell_type": "code",
      "execution_count": 1,
      "metadata": {
        "id": "HmUvLTucz__2"
      },
      "outputs": [],
      "source": [
        "import numpy as np\n",
        "import pandas as pd\n",
        "import matplotlib.pyplot as plt"
      ]
    },
    {
      "cell_type": "code",
      "source": [
        "#Start coding up here"
      ],
      "metadata": {
        "id": "hOSOzG8d3UqR"
      },
      "execution_count": null,
      "outputs": []
    }
  ]
}