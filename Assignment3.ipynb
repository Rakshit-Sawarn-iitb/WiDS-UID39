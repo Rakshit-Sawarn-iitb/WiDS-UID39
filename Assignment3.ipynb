{
  "nbformat": 4,
  "nbformat_minor": 0,
  "metadata": {
    "colab": {
      "provenance": []
    },
    "kernelspec": {
      "name": "python3",
      "display_name": "Python 3"
    },
    "language_info": {
      "name": "python"
    }
  },
  "cells": [
    {
      "cell_type": "markdown",
      "source": [
        "# **Logistic Regression**"
      ],
      "metadata": {
        "id": "Nguou27v5-yP"
      }
    },
    {
      "cell_type": "markdown",
      "source": [
        "In this assignment train a logistic regression model from scratch. And evaluate with proper metrics like accuracy, precision, recall and F-1 Score."
      ],
      "metadata": {
        "id": "txA6E1By6DLt"
      }
    },
    {
      "cell_type": "markdown",
      "source": [
        "## **Imports**"
      ],
      "metadata": {
        "id": "hpu67cuvD3x1"
      }
    },
    {
      "cell_type": "code",
      "execution_count": 1,
      "metadata": {
        "id": "LRVQZGG945Yk"
      },
      "outputs": [],
      "source": [
        "import numpy as np\n",
        "import pandas as pd\n",
        "import matplotlib.pyplot as plt"
      ]
    },
    {
      "cell_type": "code",
      "source": [
        "from sklearn.datasets import load_breast_cancer"
      ],
      "metadata": {
        "id": "43PKYifq5ate"
      },
      "execution_count": 2,
      "outputs": []
    },
    {
      "cell_type": "code",
      "source": [
        "from sklearn.model_selection import train_test_split"
      ],
      "metadata": {
        "id": "PiEDc6W06rlq"
      },
      "execution_count": 10,
      "outputs": []
    },
    {
      "cell_type": "code",
      "source": [
        "from sklearn.metrics import precision_score, recall_score, f1_score"
      ],
      "metadata": {
        "id": "OtBKv2ByDxR1"
      },
      "execution_count": 22,
      "outputs": []
    },
    {
      "cell_type": "markdown",
      "source": [
        "## **Dataset prep**"
      ],
      "metadata": {
        "id": "MPucSWTJD78m"
      }
    },
    {
      "cell_type": "code",
      "source": [
        "data = load_breast_cancer()"
      ],
      "metadata": {
        "id": "7Q6NH4xj5byI"
      },
      "execution_count": 3,
      "outputs": []
    },
    {
      "cell_type": "code",
      "source": [
        "print(data.feature_names)"
      ],
      "metadata": {
        "colab": {
          "base_uri": "https://localhost:8080/"
        },
        "id": "DqRqvZtV5fQx",
        "outputId": "037c197e-61a9-418c-ee35-45e7d3c3fb79"
      },
      "execution_count": 5,
      "outputs": [
        {
          "output_type": "stream",
          "name": "stdout",
          "text": [
            "['mean radius' 'mean texture' 'mean perimeter' 'mean area'\n",
            " 'mean smoothness' 'mean compactness' 'mean concavity'\n",
            " 'mean concave points' 'mean symmetry' 'mean fractal dimension'\n",
            " 'radius error' 'texture error' 'perimeter error' 'area error'\n",
            " 'smoothness error' 'compactness error' 'concavity error'\n",
            " 'concave points error' 'symmetry error' 'fractal dimension error'\n",
            " 'worst radius' 'worst texture' 'worst perimeter' 'worst area'\n",
            " 'worst smoothness' 'worst compactness' 'worst concavity'\n",
            " 'worst concave points' 'worst symmetry' 'worst fractal dimension']\n"
          ]
        }
      ]
    },
    {
      "cell_type": "code",
      "source": [
        "X = data.data\n",
        "y = data.target"
      ],
      "metadata": {
        "id": "7wGt2ySh5vsi"
      },
      "execution_count": 6,
      "outputs": []
    },
    {
      "cell_type": "code",
      "source": [
        "print(X.shape)"
      ],
      "metadata": {
        "colab": {
          "base_uri": "https://localhost:8080/"
        },
        "id": "A7XxxJod5xik",
        "outputId": "53c23be2-ddd9-4142-d0db-2e83e185432e"
      },
      "execution_count": 8,
      "outputs": [
        {
          "output_type": "stream",
          "name": "stdout",
          "text": [
            "(569, 30)\n"
          ]
        }
      ]
    },
    {
      "cell_type": "code",
      "source": [
        "print(y.shape)"
      ],
      "metadata": {
        "colab": {
          "base_uri": "https://localhost:8080/"
        },
        "id": "_KwhLDXV54n-",
        "outputId": "342395cf-b0c8-418a-d6b1-5edd5eb02b78"
      },
      "execution_count": 9,
      "outputs": [
        {
          "output_type": "stream",
          "name": "stdout",
          "text": [
            "(569,)\n"
          ]
        }
      ]
    },
    {
      "cell_type": "code",
      "source": [
        "X_train, X_test, y_train, y_test = train_test_split(X, y, test_size=0.2, random_state=42)\n",
        "\n",
        "X_train.shape, X_test.shape, y_train.shape, y_test.shape"
      ],
      "metadata": {
        "colab": {
          "base_uri": "https://localhost:8080/"
        },
        "id": "oJdu2eQp6l8_",
        "outputId": "8cb9e319-7aa7-4a88-f150-76dc6fb91b19"
      },
      "execution_count": 11,
      "outputs": [
        {
          "output_type": "execute_result",
          "data": {
            "text/plain": [
              "((455, 30), (114, 30), (455,), (114,))"
            ]
          },
          "metadata": {},
          "execution_count": 11
        }
      ]
    },
    {
      "cell_type": "markdown",
      "source": [
        "## **Defining functions**"
      ],
      "metadata": {
        "id": "yFTX_ijNEAFG"
      }
    },
    {
      "cell_type": "code",
      "source": [
        "def initialize_parameters(n_features):\n",
        "  pass"
      ],
      "metadata": {
        "id": "EuT0ttIv69kW"
      },
      "execution_count": 12,
      "outputs": []
    },
    {
      "cell_type": "code",
      "source": [
        "def sigmoid(z):\n",
        "  pass"
      ],
      "metadata": {
        "id": "cSZlM8Q6CLs3"
      },
      "execution_count": 13,
      "outputs": []
    },
    {
      "cell_type": "code",
      "source": [
        "def predict(X, weights, bias):\n",
        "  pass"
      ],
      "metadata": {
        "id": "Mp2-LzlPCPxa"
      },
      "execution_count": 14,
      "outputs": []
    },
    {
      "cell_type": "code",
      "source": [
        "def compute_loss(y_pred, y_true):\n",
        "  #define the binary cross entropy loss function\n",
        "  pass"
      ],
      "metadata": {
        "id": "Q5j-sQaFCT1q"
      },
      "execution_count": 15,
      "outputs": []
    },
    {
      "cell_type": "code",
      "source": [
        "def compute_gradients(X, y_true, y_pred):\n",
        "  pass"
      ],
      "metadata": {
        "id": "T_GY7mvkCc0J"
      },
      "execution_count": 16,
      "outputs": []
    },
    {
      "cell_type": "code",
      "source": [
        "def update_parameters(weights, bias, gradients, learning_rate):\n",
        "  pass"
      ],
      "metadata": {
        "id": "7QPMxQapCiUY"
      },
      "execution_count": 17,
      "outputs": []
    },
    {
      "cell_type": "code",
      "source": [
        "def train(X_train, y_train, learning_rate, epochs):\n",
        "  pass"
      ],
      "metadata": {
        "id": "0fV597H3Cj4w"
      },
      "execution_count": 18,
      "outputs": []
    },
    {
      "cell_type": "code",
      "source": [
        "def evaluate_model(X_test, y_test, weights, bias, threshold = 0.6):\n",
        "  '''to keep consistency across all the submissions i am manually defining the threshold if you want to experiment define a new\n",
        "  function with your name and change the threshold there'''\n",
        "  pass"
      ],
      "metadata": {
        "id": "UBE9AC44CoOR"
      },
      "execution_count": 21,
      "outputs": []
    },
    {
      "cell_type": "markdown",
      "source": [
        "## **Train the model here**"
      ],
      "metadata": {
        "id": "8w3a2RVPEKxt"
      }
    },
    {
      "cell_type": "code",
      "source": [
        "# weights, bias = train(X_train, y_train, learning_rate, epochs)"
      ],
      "metadata": {
        "id": "qPSmKp_bETAE"
      },
      "execution_count": 24,
      "outputs": []
    },
    {
      "cell_type": "code",
      "source": [
        "#show evaluation results here"
      ],
      "metadata": {
        "id": "-EFVPQIiEhc9"
      },
      "execution_count": 23,
      "outputs": []
    }
  ]
}